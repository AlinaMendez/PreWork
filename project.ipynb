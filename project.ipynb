{
 "cells": [
  {
   "cell_type": "markdown",
   "id": "c4e52ee5",
   "metadata": {},
   "source": [
    "## The dataset\n",
    "\n",
    "This is a real dataset and it was downloaded using web scraping techniques. The data contains registers from fotocasa which is one of the most popular websites of real estate in Spain. Please, do not do this (web scraping) unless it is for academic purposes.\n",
    "\n",
    "The dataset was downloaded a few years ago by Henry Navarro and In no case were economic returns obtained from it.\n",
    "\n",
    "It contains thousands of data from real homes published on the web www.fotocasa.com. Your goal is to extract as much information as possible with the knowledge you have so far about data science, for example what is the most expensive home in the entire dataset?\n",
    "\n",
    "Let's start with precisely that question... Good luck!\n"
   ]
  },
  {
   "cell_type": "markdown",
   "id": "dd97255d",
   "metadata": {},
   "source": [
    "#### Read the dataset assets/real_estate.csv and try to visualize the table (★☆☆)"
   ]
  },
  {
   "cell_type": "code",
   "execution_count": 47,
   "id": "4b93d9c8",
   "metadata": {},
   "outputs": [
    {
     "name": "stderr",
     "output_type": "stream",
     "text": [
      "/tmp/ipykernel_1292/3421890152.py:2: FutureWarning: The error_bad_lines argument has been deprecated and will be removed in a future version. Use on_bad_lines in the future.\n",
      "\n",
      "\n",
      "  data = pd.read_csv(\"assets/real_estate.csv\",sep=\";\",error_bad_lines=False)\n"
     ]
    }
   ],
   "source": [
    "import pandas as pd\n",
    "data = pd.read_csv(\"assets/real_estate.csv\",sep=\";\",error_bad_lines=False)"
   ]
  },
  {
   "cell_type": "markdown",
   "id": "40631cd6",
   "metadata": {},
   "source": [
    "#### What is the most expensive home in the dataset? (★☆☆)"
   ]
  },
  {
   "cell_type": "code",
   "execution_count": 48,
   "id": "17766b82",
   "metadata": {},
   "outputs": [
    {
     "data": {
      "text/html": [
       "<div>\n",
       "<style scoped>\n",
       "    .dataframe tbody tr th:only-of-type {\n",
       "        vertical-align: middle;\n",
       "    }\n",
       "\n",
       "    .dataframe tbody tr th {\n",
       "        vertical-align: top;\n",
       "    }\n",
       "\n",
       "    .dataframe thead th {\n",
       "        text-align: right;\n",
       "    }\n",
       "</style>\n",
       "<table border=\"1\" class=\"dataframe\">\n",
       "  <thead>\n",
       "    <tr style=\"text-align: right;\">\n",
       "      <th></th>\n",
       "      <th>Unnamed: 0</th>\n",
       "      <th>id_realEstates</th>\n",
       "      <th>isNew</th>\n",
       "      <th>realEstate_name</th>\n",
       "      <th>phone_realEstate</th>\n",
       "      <th>url_inmueble</th>\n",
       "      <th>rooms</th>\n",
       "      <th>bathrooms</th>\n",
       "      <th>surface</th>\n",
       "      <th>price</th>\n",
       "      <th>...</th>\n",
       "      <th>level4Id</th>\n",
       "      <th>level5Id</th>\n",
       "      <th>level6Id</th>\n",
       "      <th>level7Id</th>\n",
       "      <th>level8Id</th>\n",
       "      <th>accuracy</th>\n",
       "      <th>latitude</th>\n",
       "      <th>longitude</th>\n",
       "      <th>zipCode</th>\n",
       "      <th>customZone</th>\n",
       "    </tr>\n",
       "  </thead>\n",
       "  <tbody>\n",
       "    <tr>\n",
       "      <th>13110</th>\n",
       "      <td>13111</td>\n",
       "      <td>132042636</td>\n",
       "      <td>False</td>\n",
       "      <td>engel volkers torrelodones</td>\n",
       "      <td>911798512.0</td>\n",
       "      <td>https://www.fotocasa.es/es/comprar/vivienda/vi...</td>\n",
       "      <td>19.0</td>\n",
       "      <td>NaN</td>\n",
       "      <td>NaN</td>\n",
       "      <td>8500000</td>\n",
       "      <td>...</td>\n",
       "      <td>0</td>\n",
       "      <td>0</td>\n",
       "      <td>0</td>\n",
       "      <td>0</td>\n",
       "      <td>0</td>\n",
       "      <td>0</td>\n",
       "      <td>40,5830801751782</td>\n",
       "      <td>-4,12951942848611</td>\n",
       "      <td>NaN</td>\n",
       "      <td>NaN</td>\n",
       "    </tr>\n",
       "  </tbody>\n",
       "</table>\n",
       "<p>1 rows × 37 columns</p>\n",
       "</div>"
      ],
      "text/plain": [
       "       Unnamed: 0  id_realEstates  isNew             realEstate_name  \\\n",
       "13110       13111       132042636  False  engel volkers torrelodones   \n",
       "\n",
       "       phone_realEstate                                       url_inmueble  \\\n",
       "13110       911798512.0  https://www.fotocasa.es/es/comprar/vivienda/vi...   \n",
       "\n",
       "       rooms  bathrooms  surface    price  ... level4Id level5Id level6Id  \\\n",
       "13110   19.0        NaN      NaN  8500000  ...        0        0        0   \n",
       "\n",
       "      level7Id level8Id accuracy          latitude          longitude zipCode  \\\n",
       "13110        0        0        0  40,5830801751782  -4,12951942848611     NaN   \n",
       "\n",
       "      customZone  \n",
       "13110        NaN  \n",
       "\n",
       "[1 rows x 37 columns]"
      ]
     },
     "execution_count": 48,
     "metadata": {},
     "output_type": "execute_result"
    }
   ],
   "source": [
    "data2 = data[data['price']>0]\n",
    "data_filtered = data2.sort_values(by='price',ascending=False)\n",
    "data_filtered[0:1]"
   ]
  },
  {
   "cell_type": "code",
   "execution_count": 49,
   "id": "8a758bcf",
   "metadata": {},
   "outputs": [
    {
     "data": {
      "text/plain": [
       "['Unnamed: 0',\n",
       " 'id_realEstates',\n",
       " 'isNew',\n",
       " 'realEstate_name',\n",
       " 'phone_realEstate',\n",
       " 'url_inmueble',\n",
       " 'rooms',\n",
       " 'bathrooms',\n",
       " 'surface',\n",
       " 'price',\n",
       " 'date',\n",
       " 'description',\n",
       " 'address',\n",
       " 'country',\n",
       " 'level1',\n",
       " 'level2',\n",
       " 'level3',\n",
       " 'level4',\n",
       " 'level5',\n",
       " 'level6',\n",
       " 'level7',\n",
       " 'level8',\n",
       " 'upperLevel',\n",
       " 'countryId',\n",
       " 'level1Id',\n",
       " 'level2Id',\n",
       " 'level3Id',\n",
       " 'level4Id',\n",
       " 'level5Id',\n",
       " 'level6Id',\n",
       " 'level7Id',\n",
       " 'level8Id',\n",
       " 'accuracy',\n",
       " 'latitude',\n",
       " 'longitude',\n",
       " 'zipCode',\n",
       " 'customZone']"
      ]
     },
     "execution_count": 49,
     "metadata": {},
     "output_type": "execute_result"
    }
   ],
   "source": [
    "list(data)"
   ]
  },
  {
   "cell_type": "markdown",
   "id": "0a708990",
   "metadata": {},
   "source": [
    "#### What is cheapest home in the dataset? (★☆☆)"
   ]
  },
  {
   "cell_type": "code",
   "execution_count": 50,
   "id": "477e01f4",
   "metadata": {},
   "outputs": [
    {
     "data": {
      "text/html": [
       "<div>\n",
       "<style scoped>\n",
       "    .dataframe tbody tr th:only-of-type {\n",
       "        vertical-align: middle;\n",
       "    }\n",
       "\n",
       "    .dataframe tbody tr th {\n",
       "        vertical-align: top;\n",
       "    }\n",
       "\n",
       "    .dataframe thead th {\n",
       "        text-align: right;\n",
       "    }\n",
       "</style>\n",
       "<table border=\"1\" class=\"dataframe\">\n",
       "  <thead>\n",
       "    <tr style=\"text-align: right;\">\n",
       "      <th></th>\n",
       "      <th>Unnamed: 0</th>\n",
       "      <th>id_realEstates</th>\n",
       "      <th>isNew</th>\n",
       "      <th>realEstate_name</th>\n",
       "      <th>phone_realEstate</th>\n",
       "      <th>url_inmueble</th>\n",
       "      <th>rooms</th>\n",
       "      <th>bathrooms</th>\n",
       "      <th>surface</th>\n",
       "      <th>price</th>\n",
       "      <th>...</th>\n",
       "      <th>level4Id</th>\n",
       "      <th>level5Id</th>\n",
       "      <th>level6Id</th>\n",
       "      <th>level7Id</th>\n",
       "      <th>level8Id</th>\n",
       "      <th>accuracy</th>\n",
       "      <th>latitude</th>\n",
       "      <th>longitude</th>\n",
       "      <th>zipCode</th>\n",
       "      <th>customZone</th>\n",
       "    </tr>\n",
       "  </thead>\n",
       "  <tbody>\n",
       "    <tr>\n",
       "      <th>7491</th>\n",
       "      <td>7492</td>\n",
       "      <td>153977752</td>\n",
       "      <td>False</td>\n",
       "      <td>redpiso coslada</td>\n",
       "      <td>910759552.0</td>\n",
       "      <td>https://www.fotocasa.es/es/comprar/vivienda/ma...</td>\n",
       "      <td>3.0</td>\n",
       "      <td>1.0</td>\n",
       "      <td>80.0</td>\n",
       "      <td>600</td>\n",
       "      <td>...</td>\n",
       "      <td>0</td>\n",
       "      <td>0</td>\n",
       "      <td>0</td>\n",
       "      <td>0</td>\n",
       "      <td>0</td>\n",
       "      <td>0</td>\n",
       "      <td>40,41869</td>\n",
       "      <td>-3,54004</td>\n",
       "      <td>NaN</td>\n",
       "      <td>NaN</td>\n",
       "    </tr>\n",
       "  </tbody>\n",
       "</table>\n",
       "<p>1 rows × 37 columns</p>\n",
       "</div>"
      ],
      "text/plain": [
       "      Unnamed: 0  id_realEstates  isNew  realEstate_name  phone_realEstate  \\\n",
       "7491        7492       153977752  False  redpiso coslada       910759552.0   \n",
       "\n",
       "                                           url_inmueble  rooms  bathrooms  \\\n",
       "7491  https://www.fotocasa.es/es/comprar/vivienda/ma...    3.0        1.0   \n",
       "\n",
       "      surface  price  ... level4Id level5Id level6Id level7Id level8Id  \\\n",
       "7491     80.0    600  ...        0        0        0        0        0   \n",
       "\n",
       "     accuracy  latitude longitude zipCode customZone  \n",
       "7491        0  40,41869  -3,54004     NaN        NaN  \n",
       "\n",
       "[1 rows x 37 columns]"
      ]
     },
     "execution_count": 50,
     "metadata": {},
     "output_type": "execute_result"
    }
   ],
   "source": [
    "data2 = data[data['price']>0]\n",
    "data_filtered = data2.sort_values(by='price',ascending=True)\n",
    "data_filtered[0:1]"
   ]
  },
  {
   "cell_type": "markdown",
   "id": "0b16cd77",
   "metadata": {},
   "source": [
    "#### What is the biggest and the smallest home in the dataset? (★☆☆)"
   ]
  },
  {
   "cell_type": "code",
   "execution_count": 51,
   "id": "4d9b5975",
   "metadata": {},
   "outputs": [
    {
     "data": {
      "text/html": [
       "<div>\n",
       "<style scoped>\n",
       "    .dataframe tbody tr th:only-of-type {\n",
       "        vertical-align: middle;\n",
       "    }\n",
       "\n",
       "    .dataframe tbody tr th {\n",
       "        vertical-align: top;\n",
       "    }\n",
       "\n",
       "    .dataframe thead th {\n",
       "        text-align: right;\n",
       "    }\n",
       "</style>\n",
       "<table border=\"1\" class=\"dataframe\">\n",
       "  <thead>\n",
       "    <tr style=\"text-align: right;\">\n",
       "      <th></th>\n",
       "      <th>Unnamed: 0</th>\n",
       "      <th>id_realEstates</th>\n",
       "      <th>isNew</th>\n",
       "      <th>realEstate_name</th>\n",
       "      <th>phone_realEstate</th>\n",
       "      <th>url_inmueble</th>\n",
       "      <th>rooms</th>\n",
       "      <th>bathrooms</th>\n",
       "      <th>surface</th>\n",
       "      <th>price</th>\n",
       "      <th>...</th>\n",
       "      <th>level4Id</th>\n",
       "      <th>level5Id</th>\n",
       "      <th>level6Id</th>\n",
       "      <th>level7Id</th>\n",
       "      <th>level8Id</th>\n",
       "      <th>accuracy</th>\n",
       "      <th>latitude</th>\n",
       "      <th>longitude</th>\n",
       "      <th>zipCode</th>\n",
       "      <th>customZone</th>\n",
       "    </tr>\n",
       "  </thead>\n",
       "  <tbody>\n",
       "    <tr>\n",
       "      <th>498</th>\n",
       "      <td>499</td>\n",
       "      <td>152817874</td>\n",
       "      <td>False</td>\n",
       "      <td>toledo21</td>\n",
       "      <td>910757382.0</td>\n",
       "      <td>https://www.fotocasa.es/es/comprar/vivienda/ma...</td>\n",
       "      <td>1.0</td>\n",
       "      <td>1.0</td>\n",
       "      <td>15.0</td>\n",
       "      <td>85000</td>\n",
       "      <td>...</td>\n",
       "      <td>0</td>\n",
       "      <td>0</td>\n",
       "      <td>0</td>\n",
       "      <td>0</td>\n",
       "      <td>0</td>\n",
       "      <td>0</td>\n",
       "      <td>40,40818</td>\n",
       "      <td>-3,70192</td>\n",
       "      <td>NaN</td>\n",
       "      <td>NaN</td>\n",
       "    </tr>\n",
       "  </tbody>\n",
       "</table>\n",
       "<p>1 rows × 37 columns</p>\n",
       "</div>"
      ],
      "text/plain": [
       "     Unnamed: 0  id_realEstates  isNew realEstate_name  phone_realEstate  \\\n",
       "498         499       152817874  False        toledo21       910757382.0   \n",
       "\n",
       "                                          url_inmueble  rooms  bathrooms  \\\n",
       "498  https://www.fotocasa.es/es/comprar/vivienda/ma...    1.0        1.0   \n",
       "\n",
       "     surface  price  ... level4Id level5Id level6Id level7Id level8Id  \\\n",
       "498     15.0  85000  ...        0        0        0        0        0   \n",
       "\n",
       "    accuracy  latitude longitude zipCode customZone  \n",
       "498        0  40,40818  -3,70192     NaN        NaN  \n",
       "\n",
       "[1 rows x 37 columns]"
      ]
     },
     "execution_count": 51,
     "metadata": {},
     "output_type": "execute_result"
    }
   ],
   "source": [
    "data3_filtered = data.sort_values(by='surface',ascending=True)\n",
    "data3_filtered[0:1]"
   ]
  },
  {
   "cell_type": "code",
   "execution_count": 52,
   "id": "90da8b76",
   "metadata": {},
   "outputs": [
    {
     "data": {
      "text/html": [
       "<div>\n",
       "<style scoped>\n",
       "    .dataframe tbody tr th:only-of-type {\n",
       "        vertical-align: middle;\n",
       "    }\n",
       "\n",
       "    .dataframe tbody tr th {\n",
       "        vertical-align: top;\n",
       "    }\n",
       "\n",
       "    .dataframe thead th {\n",
       "        text-align: right;\n",
       "    }\n",
       "</style>\n",
       "<table border=\"1\" class=\"dataframe\">\n",
       "  <thead>\n",
       "    <tr style=\"text-align: right;\">\n",
       "      <th></th>\n",
       "      <th>Unnamed: 0</th>\n",
       "      <th>id_realEstates</th>\n",
       "      <th>isNew</th>\n",
       "      <th>realEstate_name</th>\n",
       "      <th>phone_realEstate</th>\n",
       "      <th>url_inmueble</th>\n",
       "      <th>rooms</th>\n",
       "      <th>bathrooms</th>\n",
       "      <th>surface</th>\n",
       "      <th>price</th>\n",
       "      <th>...</th>\n",
       "      <th>level4Id</th>\n",
       "      <th>level5Id</th>\n",
       "      <th>level6Id</th>\n",
       "      <th>level7Id</th>\n",
       "      <th>level8Id</th>\n",
       "      <th>accuracy</th>\n",
       "      <th>latitude</th>\n",
       "      <th>longitude</th>\n",
       "      <th>zipCode</th>\n",
       "      <th>customZone</th>\n",
       "    </tr>\n",
       "  </thead>\n",
       "  <tbody>\n",
       "    <tr>\n",
       "      <th>6794</th>\n",
       "      <td>6795</td>\n",
       "      <td>153936192</td>\n",
       "      <td>False</td>\n",
       "      <td>habitarium inmobiliaria</td>\n",
       "      <td>916357732.0</td>\n",
       "      <td>https://www.fotocasa.es/es/comprar/vivienda/ma...</td>\n",
       "      <td>3.0</td>\n",
       "      <td>2.0</td>\n",
       "      <td>249000.0</td>\n",
       "      <td>289000</td>\n",
       "      <td>...</td>\n",
       "      <td>0</td>\n",
       "      <td>0</td>\n",
       "      <td>0</td>\n",
       "      <td>0</td>\n",
       "      <td>0</td>\n",
       "      <td>0</td>\n",
       "      <td>40,34633</td>\n",
       "      <td>-4,02174</td>\n",
       "      <td>NaN</td>\n",
       "      <td>NaN</td>\n",
       "    </tr>\n",
       "  </tbody>\n",
       "</table>\n",
       "<p>1 rows × 37 columns</p>\n",
       "</div>"
      ],
      "text/plain": [
       "      Unnamed: 0  id_realEstates  isNew          realEstate_name  \\\n",
       "6794        6795       153936192  False  habitarium inmobiliaria   \n",
       "\n",
       "      phone_realEstate                                       url_inmueble  \\\n",
       "6794       916357732.0  https://www.fotocasa.es/es/comprar/vivienda/ma...   \n",
       "\n",
       "      rooms  bathrooms   surface   price  ... level4Id level5Id level6Id  \\\n",
       "6794    3.0        2.0  249000.0  289000  ...        0        0        0   \n",
       "\n",
       "     level7Id level8Id accuracy  latitude longitude zipCode customZone  \n",
       "6794        0        0        0  40,34633  -4,02174     NaN        NaN  \n",
       "\n",
       "[1 rows x 37 columns]"
      ]
     },
     "execution_count": 52,
     "metadata": {},
     "output_type": "execute_result"
    }
   ],
   "source": [
    "data4_filtered = data.sort_values(by='surface',ascending=False)\n",
    "data4_filtered[0:1]"
   ]
  },
  {
   "cell_type": "markdown",
   "id": "782d4c77",
   "metadata": {},
   "source": [
    "#### How many populations (level5) the dataset contains? (★☆☆)"
   ]
  },
  {
   "cell_type": "code",
   "execution_count": 53,
   "id": "5dbe1a08",
   "metadata": {},
   "outputs": [
    {
     "name": "stdout",
     "output_type": "stream",
     "text": [
      " Madrid Capital         6643\n",
      "Alcalá de Henares        525\n",
      "Las Rozas de Madrid      383\n",
      "Móstoles                 325\n",
      "Getafe                   290\n",
      "                        ... \n",
      "Brea de Tajo               1\n",
      "El Atazar                  1\n",
      "Piñuécar-gandullas         1\n",
      "Braojos                    1\n",
      "Montejo de la Sierra       1\n",
      "Name: level5, Length: 168, dtype: int64\n",
      "Cantidad de poblaciones distintas en level5: 168\n"
     ]
    }
   ],
   "source": [
    "print(pd.Series(data['level5']).value_counts())  # Cuenta la cantidad de apariciones de un string\n",
    "print(\"Cantidad de poblaciones distintas en level5: \" +str(len(pd.Series(data['level5']).value_counts()))) # Cuento la longitud del vector anterior\n",
    "# level5_unico = data['level5'].unique"
   ]
  },
  {
   "cell_type": "markdown",
   "id": "48d48f01",
   "metadata": {},
   "source": [
    "#### Does the dataset contain NAs? (★☆☆)\n"
   ]
  },
  {
   "cell_type": "code",
   "execution_count": 54,
   "id": "3ed233e7",
   "metadata": {},
   "outputs": [
    {
     "name": "stdout",
     "output_type": "stream",
     "text": [
      "True\n"
     ]
    },
    {
     "data": {
      "text/plain": [
       "Unnamed: 0              0\n",
       "id_realEstates          0\n",
       "isNew                   0\n",
       "realEstate_name        10\n",
       "phone_realEstate      794\n",
       "url_inmueble            0\n",
       "rooms                 353\n",
       "bathrooms             345\n",
       "surface              1250\n",
       "price                   0\n",
       "date                    0\n",
       "description           142\n",
       "address                 0\n",
       "country                 0\n",
       "level1                  0\n",
       "level2                  0\n",
       "level3                  0\n",
       "level4               6643\n",
       "level5                  0\n",
       "level6              14627\n",
       "level7               2277\n",
       "level8               8579\n",
       "upperLevel              0\n",
       "countryId               0\n",
       "level1Id                0\n",
       "level2Id                0\n",
       "level3Id                0\n",
       "level4Id                0\n",
       "level5Id                0\n",
       "level6Id                0\n",
       "level7Id                0\n",
       "level8Id                0\n",
       "accuracy                0\n",
       "latitude                0\n",
       "longitude               0\n",
       "zipCode             15335\n",
       "customZone          15335\n",
       "dtype: int64"
      ]
     },
     "execution_count": 54,
     "metadata": {},
     "output_type": "execute_result"
    }
   ],
   "source": [
    "print(data.isnull().values.any())\n",
    "data.isna().sum()"
   ]
  },
  {
   "cell_type": "markdown",
   "id": "4fa39382",
   "metadata": {},
   "source": [
    "#### Delete the NAs of the dataset, if applicable (★★☆)"
   ]
  },
  {
   "cell_type": "code",
   "execution_count": 55,
   "id": "c97757ec",
   "metadata": {},
   "outputs": [
    {
     "name": "stdout",
     "output_type": "stream",
     "text": [
      "Empty DataFrame\n",
      "Columns: [Unnamed: 0, id_realEstates, isNew, realEstate_name, phone_realEstate, url_inmueble, rooms, bathrooms, surface, price, date, description, address, country, level1, level2, level3, level4, level5, level6, level7, level8, upperLevel, countryId, level1Id, level2Id, level3Id, level4Id, level5Id, level6Id, level7Id, level8Id, accuracy, latitude, longitude, zipCode, customZone]\n",
      "Index: []\n",
      "\n",
      "[0 rows x 37 columns]\n"
     ]
    }
   ],
   "source": [
    "data6 = data.dropna()\n",
    "print(data6)\n",
    "#data['bathrooms '].fillna(data['bathrooms].median, inplace=True)   Rellena los lugares con la media"
   ]
  },
  {
   "cell_type": "markdown",
   "id": "0e5f76de",
   "metadata": {},
   "source": [
    "#### What is the mean of prices in the population (level5) of \"Arroyomolinos (Madrid)\"? (★★☆)"
   ]
  },
  {
   "cell_type": "code",
   "execution_count": 56,
   "id": "327f7adb",
   "metadata": {},
   "outputs": [
    {
     "name": "stdout",
     "output_type": "stream",
     "text": [
      "298905.1777777778\n"
     ]
    }
   ],
   "source": [
    "data5 = data[data['level5']== \"Arroyomolinos (Madrid)\"]\n",
    "data5_filtered = data5[data5['price']>0]\n",
    "res = data5_filtered['price'].mean(axis=0, skipna=True)\n",
    "print(res)"
   ]
  },
  {
   "cell_type": "markdown",
   "id": "89b548e3",
   "metadata": {},
   "source": [
    "#### Plot the histogram of prices for the population (level5) of \"Arroyomolinos (Madrid)\" and explain what you observe (★★☆)"
   ]
  },
  {
   "cell_type": "code",
   "execution_count": 57,
   "id": "2ba51bf7",
   "metadata": {},
   "outputs": [
    {
     "data": {
      "text/plain": [
       "<AxesSubplot:ylabel='Frequency'>"
      ]
     },
     "execution_count": 57,
     "metadata": {},
     "output_type": "execute_result"
    },
    {
     "data": {
      "image/png": "[encoded data removed]",
      "text/plain": [
       "<Figure size 432x288 with 1 Axes>"
      ]
     },
     "metadata": {
      "needs_background": "light"
     },
     "output_type": "display_data"
    }
   ],
   "source": [
    "data5 = data[data['level5']== \"Arroyomolinos (Madrid)\"]\n",
    "data5_filtered = data5[data5['price']>0]\n",
    "data5_filtered['price'].plot.hist()"
   ]
  },
  {
   "cell_type": "markdown",
   "id": "c86dc493",
   "metadata": {},
   "source": [
    "#### Now let's work with the \"south belt\" of madrid. Make a subsetting that contains the following populations (level5): \"Fuenlabrada\",\"Leganés\",\"Getafe\",\"Alcorcón\" (★★☆) "
   ]
  },
  {
   "cell_type": "code",
   "execution_count": 58,
   "id": "5280d0cb",
   "metadata": {},
   "outputs": [],
   "source": [
    "data_south = data[data[\"level5\"].isin([\"Fuenlabrada\",\"Leganés\",\"Getafe\",\"Alcorcón\"])]\n",
    "data_filtered_south = data_south['price']\n",
    "#print(data_filtered_south)"
   ]
  },
  {
   "cell_type": "markdown",
   "id": "090a6a3e",
   "metadata": {},
   "source": [
    "#### Make a bar plot of the median of prices (★★★) "
   ]
  },
  {
   "cell_type": "code",
   "execution_count": 59,
   "id": "076a8b4d",
   "metadata": {},
   "outputs": [
    {
     "data": {
      "text/plain": [
       "<AxesSubplot:xlabel='level5'>"
      ]
     },
     "execution_count": 59,
     "metadata": {},
     "output_type": "execute_result"
    },
    {
     "data": {
      "image/png": "[encoded data removed]",
      "text/plain": [
       "<Figure size 432x288 with 1 Axes>"
      ]
     },
     "metadata": {
      "needs_background": "light"
     },
     "output_type": "display_data"
    }
   ],
   "source": [
    "data_south.groupby('level5')['price'].agg('mean').plot(kind='bar')"
   ]
  },
  {
   "cell_type": "markdown",
   "id": "18f67373",
   "metadata": {},
   "source": [
    "#### Calculate the sample mean and variance of the variables: price, rooms, surface area and bathrooms (★★★) "
   ]
  },
  {
   "cell_type": "code",
   "execution_count": 60,
   "id": "4b54df78",
   "metadata": {},
   "outputs": [
    {
     "name": "stdout",
     "output_type": "stream",
     "text": [
      "price        223094.480706\n",
      "surface         111.752224\n",
      "bathrooms         1.633222\n",
      "rooms             3.017738\n",
      "dtype: float64\n",
      "price        1.492137e+10\n",
      "surface      4.263052e+03\n",
      "bathrooms    5.717969e-01\n",
      "rooms        7.188859e-01\n",
      "dtype: float64\n"
     ]
    }
   ],
   "source": [
    "print(data_south[['price','surface','bathrooms','rooms']].mean(axis=0,skipna=True))\n",
    "print(data_south[['price','surface','bathrooms','rooms']].var(axis=0,skipna=True))\n"
   ]
  },
  {
   "cell_type": "markdown",
   "id": "95cfde61",
   "metadata": {},
   "source": [
    "#### What is the most expensive home of each population? (★★☆) "
   ]
  },
  {
   "cell_type": "code",
   "execution_count": 61,
   "id": "1c29f78c",
   "metadata": {},
   "outputs": [
    {
     "data": {
      "text/plain": [
       "level5\n",
       "Alcorcón        950000\n",
       "Fuenlabrada     490000\n",
       "Getafe         1050000\n",
       "Leganés         650000\n",
       "Name: price, dtype: int64"
      ]
     },
     "execution_count": 61,
     "metadata": {},
     "output_type": "execute_result"
    }
   ],
   "source": [
    "data_south.groupby('level5')['price'].agg('max')\n"
   ]
  },
  {
   "cell_type": "markdown",
   "id": "ea67579b",
   "metadata": {},
   "source": [
    "#### Normalize the variable of prices for each population and plot the 4 histograms in the same plot (★★★) "
   ]
  },
  {
   "cell_type": "code",
   "execution_count": 62,
   "id": "385ad99c",
   "metadata": {},
   "outputs": [
    {
     "data": {
      "text/plain": [
       "Text(0.5, 1.0, 'Alcorcon')"
      ]
     },
     "execution_count": 62,
     "metadata": {},
     "output_type": "execute_result"
    },
    {
     "data": {
      "image/png": "[encoded data removed]",
      "text/plain": [
       "<Figure size 432x288 with 4 Axes>"
      ]
     },
     "metadata": {
      "needs_background": "light"
     },
     "output_type": "display_data"
    }
   ],
   "source": [
    "data_filtered_Fuenlabrada = data[data[\"level5\"].isin([\"Fuenlabrada\"])]\n",
    "normalized_Fuenlabrada = (data_filtered_Fuenlabrada['price']-data_filtered_Fuenlabrada['price'].mean())/data_filtered_Fuenlabrada['price'].std()\n",
    "\n",
    "data_filtered_Getafe = data[data[\"level5\"].isin([\"Getafe\"])]\n",
    "normalized_Getafe = (data_filtered_Getafe['price']-data_filtered_Getafe['price'].mean())/data_filtered_Getafe['price'].std()\n",
    "\n",
    "data_filtered_Leganes = data[data[\"level5\"].isin([\"Leganés\"])]\n",
    "normalized_Leganes = (data_filtered_Leganes['price']-data_filtered_Leganes['price'].mean())/data_filtered_Leganes['price'].std()\n",
    "\n",
    "data_filtered_Alcorcon = data[data[\"level5\"].isin([\"Alcorcón\"])]\n",
    "normalized_Alcorcon = (data_filtered_Alcorcon['price']-data_filtered_Alcorcon['price'].mean())/data_filtered_Alcorcon['price'].std()\n",
    "\n",
    "import matplotlib.pyplot as plt\n",
    "fig, ax = plt.subplots(2, 2, sharey = True)\n",
    "ax[0, 0].hist(x=normalized_Fuenlabrada, bins=None, color='#F2AB6D')\n",
    "ax[0,0].set_title('Fuenlabrada')\n",
    "ax[0, 1].hist(x=normalized_Getafe, bins=None, color='#F2AB6D')\n",
    "ax[0,1].set_title('Getafe')\n",
    "ax[1, 0].hist(x=normalized_Leganes, bins=None, color='#F2AB6D')\n",
    "ax[1,0].set_title('Leganes')\n",
    "ax[1, 1].hist(x=normalized_Alcorcon, bins=None, color='#F2AB6D')\n",
    "ax[1,1].set_title('Alcorcon')\n",
    "\n"
   ]
  },
  {
   "cell_type": "markdown",
   "id": "2ec1bd5c",
   "metadata": {},
   "source": [
    "#### Make a plot of the coordinates (lat and long) of the south belt of Madrid by color of each population (★★★★) \n",
    "This is a extremely hard exercise and we highly recommend to do it at the end of everything"
   ]
  },
  {
   "cell_type": "code",
   "execution_count": 63,
   "id": "312aac99",
   "metadata": {},
   "outputs": [
    {
     "data": {
      "text/plain": [
       "1                40,28674\n",
       "3        40,2853785786438\n",
       "161      40,2744807718156\n",
       "214      40,2906814213562\n",
       "219         40,3152529585\n",
       "               ...       \n",
       "15274            40,31381\n",
       "15275            40,31381\n",
       "15305          40,2882193\n",
       "15322            40,28282\n",
       "15325            40,28062\n",
       "Name: latitude, Length: 233, dtype: object"
      ]
     },
     "execution_count": 63,
     "metadata": {},
     "output_type": "execute_result"
    }
   ],
   "source": [
    "# Run in console the following command before run the rest of code:\n",
    "# jupyter nbextension enable --py --sys-prefix ipyleaflet\n",
    "\n",
    "from ipyleaflet import Map, basemaps\n",
    "\n",
    "# Map centred on (60 degrees latitude et -2.2 degrees longitude)\n",
    "# Latitude, longitude\n",
    "map = Map(center = (60, -2.2), zoom = 2, min_zoom = 1, max_zoom = 20, \n",
    "    basemap=basemaps.Stamen.Terrain)\n",
    "map\n",
    "data_filtered_Fuenlabrada['latitude']\n"
   ]
  },
  {
   "cell_type": "code",
   "execution_count": 99,
   "id": "f7931ec0",
   "metadata": {},
   "outputs": [
    {
     "name": "stdout",
     "output_type": "stream",
     "text": [
      "233\n"
     ]
    },
    {
     "ename": "ValueError",
     "evalue": "Location should consist of two numerical values, but '40,28674' of type <class 'str'> is not convertible to float.",
     "output_type": "error",
     "traceback": [
      "\u001b[0;31m---------------------------------------------------------------------------\u001b[0m",
      "\u001b[0;31mValueError\u001b[0m                                Traceback (most recent call last)",
      "File \u001b[0;32m~/.pyenv/versions/3.8.13/lib/python3.8/site-packages/folium/utilities.py:60\u001b[0m, in \u001b[0;36mvalidate_location\u001b[0;34m(location)\u001b[0m\n\u001b[1;32m     <a href='file:///home/gitpod/.pyenv/versions/3.8.13/lib/python3.8/site-packages/folium/utilities.py?line=58'>59</a>\u001b[0m \u001b[39mtry\u001b[39;00m:\n\u001b[0;32m---> <a href='file:///home/gitpod/.pyenv/versions/3.8.13/lib/python3.8/site-packages/folium/utilities.py?line=59'>60</a>\u001b[0m     \u001b[39mfloat\u001b[39;49m(coord)\n\u001b[1;32m     <a href='file:///home/gitpod/.pyenv/versions/3.8.13/lib/python3.8/site-packages/folium/utilities.py?line=60'>61</a>\u001b[0m \u001b[39mexcept\u001b[39;00m (\u001b[39mTypeError\u001b[39;00m, \u001b[39mValueError\u001b[39;00m):\n",
      "\u001b[0;31mValueError\u001b[0m: could not convert string to float: '40,28674'",
      "\nDuring handling of the above exception, another exception occurred:\n",
      "\u001b[0;31mValueError\u001b[0m                                Traceback (most recent call last)",
      "\u001b[1;32m/workspace/realestate-datacleanup-exercise/project.ipynb Cell 34'\u001b[0m in \u001b[0;36m<cell line: 13>\u001b[0;34m()\u001b[0m\n\u001b[1;32m     <a href='vscode-notebook-cell://4geeksacade-realestated-5z5dmr92a2z.ws-us45.gitpod.io/workspace/realestate-datacleanup-exercise/project.ipynb#ch0000033vscode-remote?line=11'>12</a>\u001b[0m \u001b[39mprint\u001b[39m(aux)\n\u001b[1;32m     <a href='vscode-notebook-cell://4geeksacade-realestated-5z5dmr92a2z.ws-us45.gitpod.io/workspace/realestate-datacleanup-exercise/project.ipynb#ch0000033vscode-remote?line=12'>13</a>\u001b[0m \u001b[39mfor\u001b[39;00m i \u001b[39min\u001b[39;00m \u001b[39mrange\u001b[39m (aux):\n\u001b[0;32m---> <a href='vscode-notebook-cell://4geeksacade-realestated-5z5dmr92a2z.ws-us45.gitpod.io/workspace/realestate-datacleanup-exercise/project.ipynb#ch0000033vscode-remote?line=13'>14</a>\u001b[0m    folium\u001b[39m.\u001b[39;49mMarker(location\u001b[39m=\u001b[39;49m[data_filtered_Fuenlabrada_Latitude[i],data_filtered_Fuenlabrada_Longitude[i]])\u001b[39m.\u001b[39madd_to(\u001b[39mmap\u001b[39m)\n\u001b[1;32m     <a href='vscode-notebook-cell://4geeksacade-realestated-5z5dmr92a2z.ws-us45.gitpod.io/workspace/realestate-datacleanup-exercise/project.ipynb#ch0000033vscode-remote?line=14'>15</a>\u001b[0m    \u001b[39mmap\u001b[39m\n",
      "File \u001b[0;32m~/.pyenv/versions/3.8.13/lib/python3.8/site-packages/folium/map.py:277\u001b[0m, in \u001b[0;36mMarker.__init__\u001b[0;34m(self, location, popup, tooltip, icon, draggable, **kwargs)\u001b[0m\n\u001b[1;32m    <a href='file:///home/gitpod/.pyenv/versions/3.8.13/lib/python3.8/site-packages/folium/map.py?line=274'>275</a>\u001b[0m \u001b[39msuper\u001b[39m(Marker, \u001b[39mself\u001b[39m)\u001b[39m.\u001b[39m\u001b[39m__init__\u001b[39m()\n\u001b[1;32m    <a href='file:///home/gitpod/.pyenv/versions/3.8.13/lib/python3.8/site-packages/folium/map.py?line=275'>276</a>\u001b[0m \u001b[39mself\u001b[39m\u001b[39m.\u001b[39m_name \u001b[39m=\u001b[39m \u001b[39m'\u001b[39m\u001b[39mMarker\u001b[39m\u001b[39m'\u001b[39m\n\u001b[0;32m--> <a href='file:///home/gitpod/.pyenv/versions/3.8.13/lib/python3.8/site-packages/folium/map.py?line=276'>277</a>\u001b[0m \u001b[39mself\u001b[39m\u001b[39m.\u001b[39mlocation \u001b[39m=\u001b[39m validate_location(location) \u001b[39mif\u001b[39;00m location \u001b[39melse\u001b[39;00m \u001b[39mNone\u001b[39;00m\n\u001b[1;32m    <a href='file:///home/gitpod/.pyenv/versions/3.8.13/lib/python3.8/site-packages/folium/map.py?line=277'>278</a>\u001b[0m \u001b[39mself\u001b[39m\u001b[39m.\u001b[39moptions \u001b[39m=\u001b[39m parse_options(\n\u001b[1;32m    <a href='file:///home/gitpod/.pyenv/versions/3.8.13/lib/python3.8/site-packages/folium/map.py?line=278'>279</a>\u001b[0m     draggable\u001b[39m=\u001b[39mdraggable \u001b[39mor\u001b[39;00m \u001b[39mNone\u001b[39;00m,\n\u001b[1;32m    <a href='file:///home/gitpod/.pyenv/versions/3.8.13/lib/python3.8/site-packages/folium/map.py?line=279'>280</a>\u001b[0m     autoPan\u001b[39m=\u001b[39mdraggable \u001b[39mor\u001b[39;00m \u001b[39mNone\u001b[39;00m,\n\u001b[1;32m    <a href='file:///home/gitpod/.pyenv/versions/3.8.13/lib/python3.8/site-packages/folium/map.py?line=280'>281</a>\u001b[0m     \u001b[39m*\u001b[39m\u001b[39m*\u001b[39mkwargs\n\u001b[1;32m    <a href='file:///home/gitpod/.pyenv/versions/3.8.13/lib/python3.8/site-packages/folium/map.py?line=281'>282</a>\u001b[0m )\n\u001b[1;32m    <a href='file:///home/gitpod/.pyenv/versions/3.8.13/lib/python3.8/site-packages/folium/map.py?line=282'>283</a>\u001b[0m \u001b[39mif\u001b[39;00m icon \u001b[39mis\u001b[39;00m \u001b[39mnot\u001b[39;00m \u001b[39mNone\u001b[39;00m:\n",
      "File \u001b[0;32m~/.pyenv/versions/3.8.13/lib/python3.8/site-packages/folium/utilities.py:62\u001b[0m, in \u001b[0;36mvalidate_location\u001b[0;34m(location)\u001b[0m\n\u001b[1;32m     <a href='file:///home/gitpod/.pyenv/versions/3.8.13/lib/python3.8/site-packages/folium/utilities.py?line=59'>60</a>\u001b[0m     \u001b[39mfloat\u001b[39m(coord)\n\u001b[1;32m     <a href='file:///home/gitpod/.pyenv/versions/3.8.13/lib/python3.8/site-packages/folium/utilities.py?line=60'>61</a>\u001b[0m \u001b[39mexcept\u001b[39;00m (\u001b[39mTypeError\u001b[39;00m, \u001b[39mValueError\u001b[39;00m):\n\u001b[0;32m---> <a href='file:///home/gitpod/.pyenv/versions/3.8.13/lib/python3.8/site-packages/folium/utilities.py?line=61'>62</a>\u001b[0m     \u001b[39mraise\u001b[39;00m \u001b[39mValueError\u001b[39;00m(\u001b[39m'\u001b[39m\u001b[39mLocation should consist of two numerical values, \u001b[39m\u001b[39m'\u001b[39m\n\u001b[1;32m     <a href='file:///home/gitpod/.pyenv/versions/3.8.13/lib/python3.8/site-packages/folium/utilities.py?line=62'>63</a>\u001b[0m                      \u001b[39m'\u001b[39m\u001b[39mbut \u001b[39m\u001b[39m{!r}\u001b[39;00m\u001b[39m of type \u001b[39m\u001b[39m{}\u001b[39;00m\u001b[39m is not convertible to float.\u001b[39m\u001b[39m'\u001b[39m\n\u001b[1;32m     <a href='file:///home/gitpod/.pyenv/versions/3.8.13/lib/python3.8/site-packages/folium/utilities.py?line=63'>64</a>\u001b[0m                      \u001b[39m.\u001b[39mformat(coord, \u001b[39mtype\u001b[39m(coord)))\n\u001b[1;32m     <a href='file:///home/gitpod/.pyenv/versions/3.8.13/lib/python3.8/site-packages/folium/utilities.py?line=64'>65</a>\u001b[0m \u001b[39mif\u001b[39;00m math\u001b[39m.\u001b[39misnan(\u001b[39mfloat\u001b[39m(coord)):\n\u001b[1;32m     <a href='file:///home/gitpod/.pyenv/versions/3.8.13/lib/python3.8/site-packages/folium/utilities.py?line=65'>66</a>\u001b[0m     \u001b[39mraise\u001b[39;00m \u001b[39mValueError\u001b[39;00m(\u001b[39m'\u001b[39m\u001b[39mLocation values cannot contain NaNs.\u001b[39m\u001b[39m'\u001b[39m)\n",
      "\u001b[0;31mValueError\u001b[0m: Location should consist of two numerical values, but '40,28674' of type <class 'str'> is not convertible to float."
     ]
    }
   ],
   "source": [
    "## HERE: plot the coordinates of the estates\n",
    "\n",
    "## PUT HERE YOUR CODE:\n",
    "import folium\n",
    "map = folium.Map(location =(60, -2.2))\n",
    "\n",
    "data_filtered_Fuenlabrada_Latitude = data_filtered_Fuenlabrada['latitude']\n",
    "data_filtered_Fuenlabrada_Latitude = data_filtered_Fuenlabrada_Latitude.iloc(axis=0)\n",
    "data_filtered_Fuenlabrada_Longitude = data_filtered_Fuenlabrada['longitude']\n",
    "data_filtered_Fuenlabrada_Longitude = data_filtered_Fuenlabrada_Longitude.iloc(axis=0)\n",
    "aux = len(data_filtered_Fuenlabrada['latitude'])\n",
    "print(aux)\n",
    "for i in range (aux):\n",
    "   folium.Marker(location=[data_filtered_Fuenlabrada_Latitude[i],data_filtered_Fuenlabrada_Longitude[i]]).add_to(map)\n",
    "   map\n",
    "\n"
   ]
  },
  {
   "cell_type": "markdown",
   "id": "b22874b7",
   "metadata": {},
   "source": [
    "#### What can you say about the price per square meter between the towns of Getafe and Alcorcón?"
   ]
  },
  {
   "cell_type": "code",
   "execution_count": null,
   "id": "e0ef506b",
   "metadata": {},
   "outputs": [
    {
     "name": "stdout",
     "output_type": "stream",
     "text": [
      "Media del precio por metro cuadrado level5\n",
      "Alcorcón    2172.258479\n",
      "Getafe      2088.639085\n",
      "dtype: float64\n"
     ]
    }
   ],
   "source": [
    "data_Getafe_Alcorcon = data[data[\"level5\"].isin([\"Getafe\",\"Alcorcón\"])]\n",
    "aux = data_Getafe_Alcorcon.groupby('level5')['price'].agg('mean')[0:2] / data_Getafe_Alcorcon.groupby('level5')['surface'].agg('mean')[0:2]\n",
    "print(\"Media del precio por metro cuadrado \"+str(aux))"
   ]
  },
  {
   "cell_type": "markdown",
   "id": "a4376b3f",
   "metadata": {},
   "source": [
    "#### Reload the data, is the average of \"Valdemorillo\" and \"Galapagar\" prices the same?"
   ]
  },
  {
   "cell_type": "code",
   "execution_count": null,
   "id": "37dbaf65",
   "metadata": {},
   "outputs": [
    {
     "name": "stdout",
     "output_type": "stream",
     "text": [
      "363860.2931034483\n",
      "360063.20238095237\n"
     ]
    }
   ],
   "source": [
    "data_Valdemorillo = data[(data['level5']== \"Valdemorillo\")]\n",
    "print(data_Valdemorillo['price'].mean(axis=0, skipna=True))\n",
    "\n",
    "data_Galapagar = data[(data['level5'] == \"Galapagar\")]\n",
    "print(data_Galapagar['price'].mean(axis=0, skipna=True))\n",
    "\n"
   ]
  },
  {
   "cell_type": "markdown",
   "id": "b6af45ec",
   "metadata": {},
   "source": [
    "#### What happens if we do the same analysis for price/m2 (★★☆) "
   ]
  },
  {
   "cell_type": "code",
   "execution_count": null,
   "id": "8231d73e",
   "metadata": {},
   "outputs": [
    {
     "name": "stdout",
     "output_type": "stream",
     "text": [
      "Media del precio por metro cuadrado 1039.5447972876266\n",
      "Media del precio por metro cuadrado 1178.5257998852853\n"
     ]
    }
   ],
   "source": [
    "aux = data_Valdemorillo['price'].agg('mean') / data_Valdemorillo['surface'].agg('mean')\n",
    "print(\"Media del precio por metro cuadrado \"+str(aux))\n",
    "aux = data_Galapagar['price'].agg('mean') / data_Galapagar['surface'].agg('mean')\n",
    "print(\"Media del precio por metro cuadrado \"+str(aux))\n"
   ]
  },
  {
   "cell_type": "markdown",
   "id": "2d40e202",
   "metadata": {},
   "source": [
    "#### Could you say there is a relation between surface and price? (★★☆) \n",
    "Hint: make a scatter plot."
   ]
  },
  {
   "cell_type": "code",
   "execution_count": null,
   "id": "405462e1",
   "metadata": {},
   "outputs": [
    {
     "data": {
      "image/png": "[encoded data removed]",
      "text/plain": [
       "<Figure size 432x288 with 1 Axes>"
      ]
     },
     "metadata": {
      "needs_background": "light"
     },
     "output_type": "display_data"
    }
   ],
   "source": [
    "import matplotlib.pyplot as plt\n",
    "data_filtered = data[data['price']>0]\n",
    "eje_x = data_filtered['price']\n",
    "eje_y = data_filtered['surface']\n",
    "plt.scatter(eje_x,eje_y)\n",
    "plt.xlabel(\"Precio\", size = 14)\n",
    "plt.ylabel(\"Superficie\", size = 14)\n",
    "plt.title(\"Relacion entre precio y superficie de todo el dataset\")\n",
    "plt.show()"
   ]
  },
  {
   "cell_type": "markdown",
   "id": "3275db77",
   "metadata": {},
   "source": [
    "#### Make the same plot for 4 different populations (level5) and rearrange them on the same graph? (★★☆) \n",
    "Hint: make a scatter plot of each population using subplots."
   ]
  },
  {
   "cell_type": "code",
   "execution_count": null,
   "id": "e08292ff",
   "metadata": {},
   "outputs": [
    {
     "data": {
      "image/png": "[encoded data removed]",
      "text/plain": [
       "<Figure size 432x288 with 4 Axes>"
      ]
     },
     "metadata": {
      "needs_background": "light"
     },
     "output_type": "display_data"
    }
   ],
   "source": [
    "data_Getafe = data[(data['level5']== \"Getafe\")]\n",
    "data_Leganes = data[(data['level5']== \"Leganés\")]\n",
    "\n",
    "import matplotlib.pyplot as plt\n",
    "fig, ax = plt.subplots(2, 2, sharey = True)\n",
    "ax[0, 0].scatter(data_Valdemorillo['price'],data_Valdemorillo['surface'])\n",
    "ax[0, 1].scatter(data_Galapagar['price'],data_Galapagar['surface'])\n",
    "ax[1, 0].scatter(data_Getafe['price'],data_Getafe['surface'])\n",
    "ax[1, 1].scatter(data_Leganes['price'],data_Leganes['surface'])\n",
    "\n",
    "plt.show()"
   ]
  },
  {
   "cell_type": "markdown",
   "id": "522c6bd9",
   "metadata": {},
   "source": [
    "#### How many  real estate agencies the dataset contains? (★★☆) "
   ]
  },
  {
   "cell_type": "code",
   "execution_count": null,
   "id": "014ec6c8",
   "metadata": {},
   "outputs": [
    {
     "name": "stdout",
     "output_type": "stream",
     "text": [
      "Cantidad de poblaciones distintas en level5: 1821\n"
     ]
    }
   ],
   "source": [
    "print(\"Cantidad de poblaciones distintas en level5: \" +str(len(pd.Series(data['realEstate_name']).value_counts()))) # Cuento la longitud del vector anterior"
   ]
  },
  {
   "cell_type": "markdown",
   "id": "899a101e",
   "metadata": {},
   "source": [
    "#### What is the population (level 5) that contains the most houses? (★★☆) "
   ]
  },
  {
   "cell_type": "code",
   "execution_count": null,
   "id": "9e8b34ba",
   "metadata": {},
   "outputs": [
    {
     "name": "stdout",
     "output_type": "stream",
     "text": [
      " Madrid Capital    6643\n",
      "Name: level5, dtype: int64\n"
     ]
    }
   ],
   "source": [
    "aux = pd.Series(data['level5']).value_counts()\n",
    "print(aux[0:1])"
   ]
  }
 ],
 "metadata": {
  "kernelspec": {
   "display_name": "Python 3.8.13 64-bit ('3.8.13')",
   "language": "python",
   "name": "python3"
  },
  "language_info": {
   "codemirror_mode": {
    "name": "ipython",
    "version": 3
   },
   "file_extension": ".py",
   "mimetype": "text/x-python",
   "name": "python",
   "nbconvert_exporter": "python",
   "pygments_lexer": "ipython3",
   "version": "3.8.13"
  },
  "vscode": {
   "interpreter": {
    "hash": "110cc1dee26208153f2972f08a2ad52b6a56238dc66d48e87fb757ef2996db56"
   }
  }
 },
 "nbformat": 4,
 "nbformat_minor": 5
}
